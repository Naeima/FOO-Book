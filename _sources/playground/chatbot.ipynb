{
  "nbformat": 4,
  "nbformat_minor": 0,
  "metadata": {
    "colab": {
      "provenance": []
    },
    "kernelspec": {
      "name": "python3",
      "display_name": "Python 3"
    },
    "language_info": {
      "name": "python"
    }
  },
  "cells": [
    {
      "cell_type": "code",
      "execution_count": null,
      "metadata": {
        "colab": {
          "base_uri": "https://localhost:8080/",
          "height": 611
        },
        "id": "pWVDAEUAM3Rq",
        "outputId": "ec74f5df-f3cc-45ea-c8a1-7638b5a72157"
      },
      "outputs": [
        {
          "output_type": "stream",
          "name": "stdout",
          "text": [
            "Colab notebook detected. This cell will run indefinitely so that you can see errors and logs. To turn off, set debug=False in launch().\n",
            "* Running on public URL: https://4531d0458c06e1bdab.gradio.live\n",
            "\n",
            "This share link expires in 1 week. For free permanent hosting and GPU upgrades, run `gradio deploy` from the terminal in the working directory to deploy to Hugging Face Spaces (https://huggingface.co/spaces)\n"
          ]
        },
        {
          "output_type": "display_data",
          "data": {
            "text/plain": [
              "<IPython.core.display.HTML object>"
            ],
            "text/html": [
              "<div><iframe src=\"https://4531d0458c06e1bdab.gradio.live\" width=\"100%\" height=\"500\" allow=\"autoplay; camera; microphone; clipboard-read; clipboard-write;\" frameborder=\"0\" allowfullscreen></iframe></div>"
            ]
          },
          "metadata": {}
        }
      ],
      "source": [
        "# Install dependencies\n",
        "#!pip install rdflib gradio\n",
        "\n",
        "from rdflib import Graph\n",
        "import gradio as gr\n",
        "\n",
        "# Load RDF\n",
        "foo_KG = Graph()\n",
        "foo_KG.parse(\"https://naeima.github.io/fooKG/index.ttl\", format=\"ttl\")\n",
        "\n",
        "# Handler function for supported questions\n",
        "def handle_question(question):\n",
        "    try:\n",
        "        q = question.lower()\n",
        "\n",
        "        # 📍 GPS OBSERVATION\n",
        "        if \"gps\" in q or \"location\" in q:\n",
        "            query = \"\"\"\n",
        "            PREFIX foo: <https://w3id.org/def/foo#>\n",
        "            SELECT ?id ?latitude ?longitude ?localDate\n",
        "            WHERE {\n",
        "              ?s a foo:gPSObservation ;\n",
        "                 foo:id ?id ;\n",
        "                 foo:latitude ?latitude ;\n",
        "                 foo:longitude ?longitude ;\n",
        "                 foo:localDate ?localDate .\n",
        "            }\n",
        "            ORDER BY ?localDate\n",
        "            LIMIT 5\n",
        "            \"\"\"\n",
        "            results = foo_KG.query(query)\n",
        "            rows = [row.asdict() for row in results]\n",
        "            return \"\\n\\n\".join([\n",
        "                f\"🛰️ ID: {r['id']}, 🌍 Lat: {r['latitude']}, Long: {r['longitude']}, 📅 Date: {r['localDate']}\"\n",
        "                for r in rows\n",
        "            ]) if rows else \"No GPS data found.\"\n",
        "\n",
        "        # 🌳 TREE / LIANA OBSERVATION\n",
        "        elif \"tree\" in q or \"liana\" in q or \"plot\" in q:\n",
        "            query = \"\"\"\n",
        "            PREFIX foo: <https://w3id.org/def/foo#>\n",
        "            SELECT ?id ?treeID ?treeHeightM ?treeDbhCm ?treeNLianas ?sitePlotCode ?siteName\n",
        "            WHERE {\n",
        "              ?s a foo:treeObservation ;\n",
        "                 foo:id ?id ;\n",
        "                 foo:treeID ?treeID ;\n",
        "                 foo:treeHeightM ?treeHeightM ;\n",
        "                 foo:treeDbhCm ?treeDbhCm ;\n",
        "                 foo:treeNLianas ?treeNLianas ;\n",
        "                 foo:sitePlotCode ?sitePlotCode ;\n",
        "                 foo:siteName ?siteName .\n",
        "            }\n",
        "            LIMIT 5\n",
        "            \"\"\"\n",
        "            results = foo_KG.query(query)\n",
        "            rows = [row.asdict() for row in results]\n",
        "            return \"\\n\\n\".join([\n",
        "                f\"🌳 Tree ID: {r['treeID']} ({r['id']}), Height: {r['treeHeightM']} m, DBH: {r['treeDbhCm']} cm, Lianas: {r['treeNLianas']}, Plot: {r['sitePlotCode']} @ {r['siteName']}\"\n",
        "                for r in rows\n",
        "            ]) if rows else \"No tree/liana observations found.\"\n",
        "\n",
        "        # 🧪 SOIL OBSERVATION\n",
        "        elif \"soil\" in q or \"ph\" in q or \"clay\" in q or \"carbon\" in q or \"nitrogen\" in q:\n",
        "            query = \"\"\"\n",
        "            PREFIX foo: <https://w3id.org/def/foo#>\n",
        "            SELECT ?identifier ?soilPH ?totalC ?totalN ?cNRatio ?plotName ?landUse ?site\n",
        "            WHERE {\n",
        "              ?s a foo:Observation ;\n",
        "                 foo:identifier ?identifier ;\n",
        "                 foo:soilPH ?soilPH ;\n",
        "                 foo:totalC ?totalC ;\n",
        "                 foo:totalN ?totalN ;\n",
        "                 foo:cNRatio ?cNRatio ;\n",
        "                 foo:plotName ?plotName ;\n",
        "                 foo:landUse ?landUse ;\n",
        "                 foo:site ?site .\n",
        "            }\n",
        "            LIMIT 5\n",
        "            \"\"\"\n",
        "            results = foo_KG.query(query)\n",
        "            rows = [row.asdict() for row in results]\n",
        "            return \"\\n\\n\".join([\n",
        "                f\"🧪 Site: {r['site']} ({r['plotName']}, {r['identifier']}), pH: {r['soilPH']}, C: {r['totalC']}, N: {r['totalN']}, C/N: {r['cNRatio']}, Land use: {r['landUse']}\"\n",
        "                for r in rows\n",
        "            ]) if rows else \"No soil data found.\"\n",
        "\n",
        "        else:\n",
        "            return \"I support questions about GPS observations, tree/liana features, and soil chemistry. Try asking about tree height, GPS data, or soil pH.\"\n",
        "\n",
        "    except Exception as e:\n",
        "        return f\"❌ Error: {e}\"\n",
        "\n",
        "# Gradio Interface\n",
        "gr.Interface(\n",
        "    fn=handle_question,\n",
        "    inputs=gr.Textbox(lines=2, placeholder=\"Ask about GPS, trees, or soil observations...\"),\n",
        "    outputs=\"text\",\n",
        "    title=\"FOO Chatbot\",\n",
        "    description=\"Ask questions about GPS, tree/liana, and soil observations from FOO.\",\n",
        "    examples=[\n",
        "        \"Show me GPS observation data.\",\n",
        "        \"How many GPS observations are there?\",\n",
        "        \"List liana observations with tree heights.\",\n",
        "        \"What is the soil pH at Maliau Basin?\",\n",
        "        \"Show me soil nitrogen and carbon values.\",\n",
        "        \"Where are trees with more than 5 lianas?\",\n",
        "        \"Give me site and plot info for tree observations.\"\n",
        "    ]\n",
        ").launch(share=True, debug=True)"
      ]
    }
  ]
}